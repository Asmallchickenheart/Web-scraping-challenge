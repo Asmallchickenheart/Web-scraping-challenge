{
 "cells": [
  {
   "cell_type": "code",
   "execution_count": 1,
   "outputs": [],
   "source": [
    "from splinter import Browser\n",
    "import pandas as pd\n",
    "from bs4 import BeautifulSoup as bs\n",
    "browser = Browser('chrome', headless=True)"
   ],
   "metadata": {
    "collapsed": false,
    "pycharm": {
     "name": "#%%\n"
    }
   }
  },
  {
   "cell_type": "markdown",
   "source": [
    "# NASA MAR'S NEWS\n"
   ],
   "metadata": {
    "collapsed": false,
    "pycharm": {
     "name": "#%% md\n"
    }
   }
  },
  {
   "cell_type": "code",
   "execution_count": 2,
   "outputs": [
    {
     "name": "stdout",
     "output_type": "stream",
     "text": [
      "Visiting: https://redplanetscience.com/\n",
      "Latest News Title: NASA Moves Forward With Campaign to Return Mars Samples to Earth\n",
      "Latest News Paragraph: During this next phase, the program will mature critical technologies and make critical design decisions as well as assess industry partnerships.\n"
     ]
    }
   ],
   "source": [
    " # visit the Mars News Site\n",
    "url = 'https://redplanetscience.com/'\n",
    "browser.visit(url)\n",
    "print(\"Visiting: \" + url)\n",
    "\n",
    "# find the latest news title and paragraph\n",
    "news_title = browser.find_by_id('news').find_by_css('.content_title').first.text\n",
    "news_p = browser.find_by_id('news').find_by_css('.article_teaser_body').first.text\n",
    "print(\"Latest News Title: \" + news_title)\n",
    "print(\"Latest News Paragraph: \" + news_p)\n"
   ],
   "metadata": {
    "collapsed": false,
    "pycharm": {
     "name": "#%%\n"
    }
   }
  },
  {
   "cell_type": "code",
   "execution_count": 3,
   "outputs": [
    {
     "name": "stdout",
     "output_type": "stream",
     "text": [
      "https://spaceimages-mars.com/image/featured/mars1.jpg\n"
     ]
    }
   ],
   "source": [
    "# create a browser instance\n",
    "\n",
    "browser.visit('https://spaceimages-mars.com/')\n",
    "# find the image url\n",
    "featured_image_url = browser.find_by_tag('img')[1]['src']\n",
    "print(featured_image_url)\n"
   ],
   "metadata": {
    "collapsed": false,
    "pycharm": {
     "name": "#%%\n"
    }
   }
  },
  {
   "cell_type": "markdown",
   "source": [
    "# Mars Facts"
   ],
   "metadata": {
    "collapsed": false,
    "pycharm": {
     "name": "#%% md\n"
    }
   }
  },
  {
   "cell_type": "code",
   "execution_count": 4,
   "outputs": [
    {
     "data": {
      "text/plain": "<table class=\"table\">\n<tbody>\n<tr>\n<th scope=\"row\"><b> Mars - Earth Comparison</b></th>\n<td><span class=\"orange\"><b> Mars</b></span></td>\n<td><span class=\"purple\"> <b>Earth </b></span> </td>\n</tr>\n<tr>\n<th scope=\"row\">Diameter:</th>\n<td><span class=\"orange\">6,779 km</span></td>\n<td><span class=\"purple\">12,742 km</span> </td>\n</tr>\n<tr>\n<th scope=\"row\">Mass:</th>\n<td><span class=\"orange\">6.39 × 10^23 kg </span></td>\n<td><span class=\"purple\">5.97 × 10^24 kg</span> </td>\n</tr>\n<tr>\n<th scope=\"row\">Moons:</th>\n<td><span class=\"orange\">2</span></td>\n<td><span class=\"purple\">1</span> </td>\n</tr>\n<tr>\n<th scope=\"row\">Distance from Sun:</th>\n<td><span class=\"orange\">227,943,824 km</span></td>\n<td><span class=\"purple\">149,598,262 km</span> </td>\n</tr>\n<tr>\n<th scope=\"row\">Length of Year:</th>\n<td><span class=\"orange\">687 Earth days</span></td>\n<td><span class=\"purple\">365.24 days</span> </td>\n</tr>\n<tr>\n<th scope=\"row\">Temperature:</th>\n<td><span class=\"orange\">-87 to -5 °C</span></td>\n<td><span class=\"purple\">\t-88 to 58°C</span> </td>\n</tr>\n</tbody>\n</table>"
     },
     "execution_count": 4,
     "metadata": {},
     "output_type": "execute_result"
    }
   ],
   "source": [
    "import requests\n",
    "\n",
    "# read the table and create a dataframe\n",
    "url = \"https://galaxyfacts-mars.com/\"\n",
    "page = requests.get(url)\n",
    "soup = bs(page.content, 'html.parser')\n",
    "# obtain information from tag <table>\n",
    "table = soup.find('table', class_='table')\n",
    "table"
   ],
   "metadata": {
    "collapsed": false,
    "pycharm": {
     "name": "#%%\n"
    }
   }
  },
  {
   "cell_type": "markdown",
   "source": [
    "# Mars Hemispheres"
   ],
   "metadata": {
    "collapsed": false,
    "pycharm": {
     "name": "#%% md\n"
    }
   }
  },
  {
   "cell_type": "code",
   "execution_count": 41,
   "outputs": [
    {
     "name": "stdout",
     "output_type": "stream",
     "text": [
      "Cerberus Hemisphere Enhanced\n",
      "Schiaparelli Hemisphere Enhanced\n",
      "Syrtis Major Hemisphere Enhanced\n",
      "Valles Marineris Hemisphere Enhanced\n",
      "['https://marshemispheres.com/images/full.jpg', 'https://marshemispheres.com/images/schiaparelli_enhanced-full.jpg', 'https://marshemispheres.com/images/syrtis_major_enhanced-full.jpg', 'https://marshemispheres.com/images/valles_marineris_enhanced-full.jpg']\n",
      "[{'title': 'Cerberus Hemisphere Enhanced', 'img_url': 'https://marshemispheres.com/images/full.jpg'}, {'title': 'Schiaparelli Hemisphere Enhanced', 'img_url': 'https://marshemispheres.com/images/schiaparelli_enhanced-full.jpg'}, {'title': 'Syrtis Major Hemisphere Enhanced', 'img_url': 'https://marshemispheres.com/images/syrtis_major_enhanced-full.jpg'}, {'title': 'Valles Marineris Hemisphere Enhanced', 'img_url': 'https://marshemispheres.com/images/valles_marineris_enhanced-full.jpg'}]\n"
     ]
    }
   ],
   "source": [
    "# obtain high-resolution images for each of Mar's hemispheres\n",
    "html_doc = requests.get('https://marshemispheres.com/').text\n",
    "soup = bs(html_doc, 'html.parser')\n",
    "each_web_urls = []\n",
    "titles = []\n",
    "\n",
    "\n",
    "# find each web url\n",
    "for link in soup.select('.item>a'):\n",
    "    each_web_urls.append(\"https://marshemispheres.com/\"+link['href'])\n",
    "\n",
    "# find each title\n",
    "for title in soup.select('.description h3'):\n",
    "    titles.append(title.text)\n",
    "    print(title.text)\n",
    "\n",
    "# find each img_urls\n",
    "img_urls = []\n",
    "for each_web_url in each_web_urls:\n",
    "    browser.visit(each_web_url)\n",
    "    img_url = browser.find_by_text('Sample')['href']\n",
    "    img_urls.append(img_url)\n",
    "print(img_urls)\n",
    "\n",
    "# create a list of dictionaries\n",
    "hemisphere_image_urls = []\n",
    "for i in range(len(titles)):\n",
    "    hemisphere_image_urls.append({'title':titles[i], 'img_url':img_urls[i]})\n",
    "print(hemisphere_image_urls)"
   ],
   "metadata": {
    "collapsed": false,
    "pycharm": {
     "name": "#%%\n"
    }
   }
  },
  {
   "cell_type": "code",
   "execution_count": null,
   "outputs": [],
   "source": [],
   "metadata": {
    "collapsed": false,
    "pycharm": {
     "name": "#%%\n"
    }
   }
  }
 ],
 "metadata": {
  "kernelspec": {
   "display_name": "Python 3",
   "language": "python",
   "name": "python3"
  },
  "language_info": {
   "codemirror_mode": {
    "name": "ipython",
    "version": 2
   },
   "file_extension": ".py",
   "mimetype": "text/x-python",
   "name": "python",
   "nbconvert_exporter": "python",
   "pygments_lexer": "ipython2",
   "version": "2.7.6"
  }
 },
 "nbformat": 4,
 "nbformat_minor": 0
}